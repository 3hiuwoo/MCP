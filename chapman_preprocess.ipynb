{
 "cells": [
  {
   "cell_type": "code",
   "execution_count": 1,
   "metadata": {},
   "outputs": [],
   "source": [
    "import os"
   ]
  },
  {
   "cell_type": "code",
   "execution_count": 9,
   "metadata": {},
   "outputs": [],
   "source": [
    "with open('RECORDS', 'r') as f:\n",
    "    dirs = f.readlines()\n",
    "dirs = [d.strip() for d in dirs]"
   ]
  },
  {
   "cell_type": "code",
   "execution_count": 12,
   "metadata": {},
   "outputs": [],
   "source": [
    "import shutil\n",
    "\n",
    "for dir in dirs:\n",
    "    for file in os.listdir(dir):\n",
    "        shutil.copy(os.path.join(dir, file), 'trainingchapman')"
   ]
  },
  {
   "cell_type": "code",
   "execution_count": 15,
   "metadata": {},
   "outputs": [],
   "source": [
    "list = os.listdir('trainingchapman')"
   ]
  },
  {
   "cell_type": "code",
   "execution_count": 16,
   "metadata": {},
   "outputs": [],
   "source": [
    "heads = []\n",
    "for file in list:\n",
    "    head = file.split('.')[0]\n",
    "    heads.append(head)"
   ]
  },
  {
   "cell_type": "code",
   "execution_count": 19,
   "metadata": {},
   "outputs": [],
   "source": [
    "heads = set(heads)"
   ]
  },
  {
   "cell_type": "code",
   "execution_count": 20,
   "metadata": {},
   "outputs": [
    {
     "data": {
      "text/plain": [
       "45153"
      ]
     },
     "execution_count": 20,
     "metadata": {},
     "output_type": "execute_result"
    }
   ],
   "source": [
    "len(heads)"
   ]
  },
  {
   "cell_type": "code",
   "execution_count": 23,
   "metadata": {},
   "outputs": [],
   "source": [
    "with open('training2017/RECORDTrain.txt', 'r') as f:\n",
    "    train = f.readlines()\n",
    "train = [t.strip() for t in train]"
   ]
  },
  {
   "cell_type": "code",
   "execution_count": 26,
   "metadata": {},
   "outputs": [],
   "source": [
    "with open('training2017/RECORDValid.txt', 'r') as f:\n",
    "    val = f.readlines()\n",
    "val = [v.strip() for v in val]"
   ]
  },
  {
   "cell_type": "code",
   "execution_count": 27,
   "metadata": {},
   "outputs": [],
   "source": [
    "with open('training2017/RECORDTest.txt', 'r') as f:\n",
    "    test = f.readlines()\n",
    "test = [t.strip() for t in test]"
   ]
  },
  {
   "cell_type": "code",
   "execution_count": 28,
   "metadata": {},
   "outputs": [
    {
     "data": {
      "text/plain": [
       "(7928, 300, 300)"
      ]
     },
     "execution_count": 28,
     "metadata": {},
     "output_type": "execute_result"
    }
   ],
   "source": [
    "len(train), len(val), len(test)"
   ]
  },
  {
   "cell_type": "code",
   "execution_count": null,
   "metadata": {},
   "outputs": [],
   "source": [
    "heads = sorted(heads)"
   ]
  },
  {
   "cell_type": "code",
   "execution_count": null,
   "metadata": {},
   "outputs": [],
   "source": [
    "from sklearn.model_selection import train_test_split"
   ]
  },
  {
   "cell_type": "code",
   "execution_count": 56,
   "metadata": {},
   "outputs": [],
   "source": [
    "heads.remove('RECORDS')"
   ]
  },
  {
   "cell_type": "code",
   "execution_count": 59,
   "metadata": {},
   "outputs": [],
   "source": [
    "with open('trainingchapman/RECORDTotal.txt', 'w') as f:\n",
    "    for head in heads:\n",
    "        f.write(head + '\\n')"
   ]
  },
  {
   "cell_type": "code",
   "execution_count": null,
   "metadata": {},
   "outputs": [],
   "source": [
    "from wfdb import rdrecord"
   ]
  },
  {
   "cell_type": "code",
   "execution_count": 322,
   "metadata": {},
   "outputs": [],
   "source": [
    "label_dict = {}\n",
    "for head in heads:\n",
    "    try:\n",
    "        data = rdrecord(os.path.join('trainingchapman', head))\n",
    "        labels = data.comments[2]\n",
    "        labels = labels.split(':')[-1]\n",
    "        labels = labels.split(',')\n",
    "        label_dict[head] = labels\n",
    "    except:\n",
    "        print(head)\n",
    "        break"
   ]
  },
  {
   "cell_type": "code",
   "execution_count": 323,
   "metadata": {},
   "outputs": [
    {
     "data": {
      "text/plain": [
       "45152"
      ]
     },
     "execution_count": 323,
     "metadata": {},
     "output_type": "execute_result"
    }
   ],
   "source": [
    "len(label_dict)"
   ]
  },
  {
   "cell_type": "code",
   "execution_count": 195,
   "metadata": {},
   "outputs": [],
   "source": [
    "import pandas as pd"
   ]
  },
  {
   "cell_type": "code",
   "execution_count": 310,
   "metadata": {},
   "outputs": [],
   "source": [
    "id2label = pd.read_csv('trainingchapman/ConditionNames_SNOMED-CT.csv', index_col=0)"
   ]
  },
  {
   "cell_type": "code",
   "execution_count": 311,
   "metadata": {},
   "outputs": [],
   "source": [
    "id2label.drop('Full Name', axis=1, inplace=True)"
   ]
  },
  {
   "cell_type": "code",
   "execution_count": 312,
   "metadata": {},
   "outputs": [
    {
     "data": {
      "text/html": [
       "<div>\n",
       "<style scoped>\n",
       "    .dataframe tbody tr th:only-of-type {\n",
       "        vertical-align: middle;\n",
       "    }\n",
       "\n",
       "    .dataframe tbody tr th {\n",
       "        vertical-align: top;\n",
       "    }\n",
       "\n",
       "    .dataframe thead th {\n",
       "        text-align: right;\n",
       "    }\n",
       "</style>\n",
       "<table border=\"1\" class=\"dataframe\">\n",
       "  <thead>\n",
       "    <tr style=\"text-align: right;\">\n",
       "      <th></th>\n",
       "      <th>Snomed_CT</th>\n",
       "    </tr>\n",
       "    <tr>\n",
       "      <th>Acronym Name</th>\n",
       "      <th></th>\n",
       "    </tr>\n",
       "  </thead>\n",
       "  <tbody>\n",
       "    <tr>\n",
       "      <th>1AVB</th>\n",
       "      <td>270492004</td>\n",
       "    </tr>\n",
       "    <tr>\n",
       "      <th>2AVB</th>\n",
       "      <td>195042002</td>\n",
       "    </tr>\n",
       "    <tr>\n",
       "      <th>2AVB1</th>\n",
       "      <td>54016002</td>\n",
       "    </tr>\n",
       "    <tr>\n",
       "      <th>2AVB2</th>\n",
       "      <td>28189009</td>\n",
       "    </tr>\n",
       "    <tr>\n",
       "      <th>3AVB</th>\n",
       "      <td>27885002</td>\n",
       "    </tr>\n",
       "    <tr>\n",
       "      <th>...</th>\n",
       "      <td>...</td>\n",
       "    </tr>\n",
       "    <tr>\n",
       "      <th>SVT</th>\n",
       "      <td>426761007</td>\n",
       "    </tr>\n",
       "    <tr>\n",
       "      <th>AT</th>\n",
       "      <td>713422000</td>\n",
       "    </tr>\n",
       "    <tr>\n",
       "      <th>AVNRT</th>\n",
       "      <td>233896004</td>\n",
       "    </tr>\n",
       "    <tr>\n",
       "      <th>AVRT</th>\n",
       "      <td>233897008</td>\n",
       "    </tr>\n",
       "    <tr>\n",
       "      <th>SAAWR</th>\n",
       "      <td>195101003</td>\n",
       "    </tr>\n",
       "  </tbody>\n",
       "</table>\n",
       "<p>63 rows × 1 columns</p>\n",
       "</div>"
      ],
      "text/plain": [
       "              Snomed_CT\n",
       "Acronym Name           \n",
       "1AVB          270492004\n",
       "2AVB          195042002\n",
       "2AVB1          54016002\n",
       "2AVB2          28189009\n",
       "3AVB           27885002\n",
       "...                 ...\n",
       "SVT           426761007\n",
       "AT            713422000\n",
       "AVNRT         233896004\n",
       "AVRT          233897008\n",
       "SAAWR         195101003\n",
       "\n",
       "[63 rows x 1 columns]"
      ]
     },
     "execution_count": 312,
     "metadata": {},
     "output_type": "execute_result"
    }
   ],
   "source": [
    "id2label"
   ]
  },
  {
   "cell_type": "code",
   "execution_count": 313,
   "metadata": {},
   "outputs": [],
   "source": [
    "id_dict = id2label.to_dict()['Snomed_CT']"
   ]
  },
  {
   "cell_type": "code",
   "execution_count": 377,
   "metadata": {},
   "outputs": [],
   "source": [
    "merge_dict = {\n",
    "    'AFIB': 'AFIB',\n",
    "    'AF': 'AFIB',\n",
    "    'ST': 'GSVT',\n",
    "    'SVT': 'GSVT',\n",
    "    'AT': 'GSVT',\n",
    "    'SAAWR': 'GSVT',\n",
    "    'WAVN': 'GSVT',\n",
    "    'AVNRT': 'GSVT',\n",
    "    'AVRT': 'GSVT',\n",
    "    'SB': 'SB',\n",
    "    'SR': 'SR',\n",
    "    'SA': 'SR'\n",
    "}"
   ]
  },
  {
   "cell_type": "code",
   "execution_count": 359,
   "metadata": {},
   "outputs": [
    {
     "data": {
      "text/plain": [
       "{'1AVB': 270492004,\n",
       " '2AVB': 195042002,\n",
       " '2AVB1': 54016002,\n",
       " '2AVB2': 28189009,\n",
       " '3AVB': 27885002,\n",
       " 'ABI': 251173003,\n",
       " 'ALS': 39732003,\n",
       " 'APB': 284470004,\n",
       " 'AQW': 164917005,\n",
       " 'ARS': 47665007,\n",
       " 'AVB': 233917008,\n",
       " 'CCR': 251199005,\n",
       " 'CR': 251198002,\n",
       " 'ERV': 428417006,\n",
       " 'FQRS': 164942001,\n",
       " 'IDC': 698252002,\n",
       " 'IVB': 698252002,\n",
       " 'JEB': 426995002,\n",
       " 'JPT': 251164006,\n",
       " 'LBBB': 164909002,\n",
       " 'LBBBB': 164909002,\n",
       " 'LFBBB': 164909002,\n",
       " 'LVH': 164873001,\n",
       " 'LVQRSAL': 251146004,\n",
       " 'LVQRSCL': 251148003,\n",
       " 'LVQRSLL': 251147008,\n",
       " 'MI': 164865005,\n",
       " 'MIBW': 164865005,\n",
       " 'MIFW': 164865005,\n",
       " 'MILW': 164865005,\n",
       " 'MISW': 164865005,\n",
       " 'PRIE': 164947007,\n",
       " 'PWC': 164912004,\n",
       " 'QTIE': 111975006,\n",
       " 'RAH': 446358003,\n",
       " 'RBBB': 59118001,\n",
       " 'RVH': 89792004,\n",
       " 'STDD': 429622005,\n",
       " 'STE': 164930006,\n",
       " 'STTC': 428750005,\n",
       " 'STTU': 164931005,\n",
       " 'TWC': 164934002,\n",
       " 'TWO': 59931005,\n",
       " 'UW': 164937009,\n",
       " 'VB': 11157007,\n",
       " 'VEB': 75532003,\n",
       " 'VFW': 13640000,\n",
       " 'VPB': 17338001,\n",
       " 'VPE': 195060002,\n",
       " 'VET': 251180001,\n",
       " 'WAVN': 195101003,\n",
       " 'WPW': 74390002,\n",
       " 'SB': 426177001,\n",
       " 'SR': 426783006,\n",
       " 'AFIB': 164889003,\n",
       " 'ST': 427084000,\n",
       " 'AF': 164890007,\n",
       " 'SA': 427393009,\n",
       " 'SVT': 426761007,\n",
       " 'AT': 713422000,\n",
       " 'AVNRT': 233896004,\n",
       " 'AVRT': 233897008,\n",
       " 'SAAWR': 195101003}"
      ]
     },
     "execution_count": 359,
     "metadata": {},
     "output_type": "execute_result"
    }
   ],
   "source": [
    "id_dict"
   ]
  },
  {
   "cell_type": "code",
   "execution_count": 315,
   "metadata": {},
   "outputs": [
    {
     "data": {
      "text/plain": [
       "63"
      ]
     },
     "execution_count": 315,
     "metadata": {},
     "output_type": "execute_result"
    }
   ],
   "source": [
    "len(id_dict)"
   ]
  },
  {
   "cell_type": "code",
   "execution_count": 379,
   "metadata": {},
   "outputs": [],
   "source": [
    "code_dict = {}\n",
    "for k, v in id_dict.items():\n",
    "    if k in merge_dict:\n",
    "        code_dict[v] = merge_dict[k]"
   ]
  },
  {
   "cell_type": "code",
   "execution_count": 380,
   "metadata": {},
   "outputs": [
    {
     "data": {
      "text/plain": [
       "{195101003: 'GSVT',\n",
       " 426177001: 'SB',\n",
       " 426783006: 'SR',\n",
       " 164889003: 'AFIB',\n",
       " 427084000: 'GSVT',\n",
       " 164890007: 'AFIB',\n",
       " 427393009: 'SR',\n",
       " 426761007: 'GSVT',\n",
       " 713422000: 'GSVT',\n",
       " 233896004: 'GSVT',\n",
       " 233897008: 'GSVT'}"
      ]
     },
     "execution_count": 380,
     "metadata": {},
     "output_type": "execute_result"
    }
   ],
   "source": [
    "code_dict"
   ]
  },
  {
   "cell_type": "code",
   "execution_count": 400,
   "metadata": {},
   "outputs": [],
   "source": [
    "new_label_dict = {}\n",
    "append_label_dict = {}\n",
    "for k, vs in label_dict.items():\n",
    "    new_label_dict[k] = []\n",
    "    append_label_dict[k] = []\n",
    "    for v in vs:\n",
    "        v = int(v.strip())\n",
    "        if v in code_dict:\n",
    "            new_label_dict[k].append(code_dict[v])\n",
    "            append_label_dict[k].append(code_dict[v])\n",
    "        elif v in id_dict.values():\n",
    "            append_label_dict[k].append(v)"
   ]
  },
  {
   "cell_type": "code",
   "execution_count": 401,
   "metadata": {},
   "outputs": [
    {
     "name": "stdout",
     "output_type": "stream",
     "text": [
      "1159 949\n"
     ]
    }
   ],
   "source": [
    "cnt_mul = 0\n",
    "cnt_non = 0\n",
    "mul_list = []\n",
    "non_list = []\n",
    "for k, v in new_label_dict.items():\n",
    "    if len(v) > 1:\n",
    "        cnt_mul += 1\n",
    "        mul_list.append(k)\n",
    "    elif len(v) == 0:\n",
    "        cnt_non += 1\n",
    "        non_list.append(k)\n",
    "print(cnt_mul, cnt_non)"
   ]
  },
  {
   "cell_type": "code",
   "execution_count": 402,
   "metadata": {},
   "outputs": [],
   "source": [
    "drop_list = non_list + mul_list"
   ]
  },
  {
   "cell_type": "code",
   "execution_count": 403,
   "metadata": {},
   "outputs": [],
   "source": [
    "drop_list = sorted(drop_list)"
   ]
  },
  {
   "cell_type": "code",
   "execution_count": 212,
   "metadata": {},
   "outputs": [],
   "source": [
    "df = pd.DataFrame.from_dict(label_dict, orient='index').dropna(axis=0, how='all')"
   ]
  },
  {
   "cell_type": "code",
   "execution_count": 386,
   "metadata": {},
   "outputs": [
    {
     "data": {
      "text/plain": [
       "45152"
      ]
     },
     "execution_count": 386,
     "metadata": {},
     "output_type": "execute_result"
    }
   ],
   "source": [
    "len(heads)"
   ]
  },
  {
   "cell_type": "code",
   "execution_count": 404,
   "metadata": {},
   "outputs": [],
   "source": [
    "trains, tests = train_test_split(heads, train_size=0.6, test_size=0.4, shuffle=True, random_state=42)\n",
    "valids, tests = train_test_split(tests, train_size=0.5, test_size=0.5, shuffle=True, random_state=42)"
   ]
  },
  {
   "cell_type": "code",
   "execution_count": 405,
   "metadata": {},
   "outputs": [
    {
     "data": {
      "text/plain": [
       "(27091, 9030, 9031)"
      ]
     },
     "execution_count": 405,
     "metadata": {},
     "output_type": "execute_result"
    }
   ],
   "source": [
    "trains = sorted(trains)\n",
    "valids = sorted(valids)\n",
    "tests = sorted(tests)\n",
    "len(trains), len(valids), len(tests)"
   ]
  },
  {
   "cell_type": "code",
   "execution_count": 406,
   "metadata": {},
   "outputs": [],
   "source": [
    "with open('trainingchapman/RECORDTotal.txt', 'w') as f:\n",
    "    for head in heads:\n",
    "        f.write(head + '\\n')\n",
    "with open('trainingchapman/RECORDTrain.txt', 'w') as f:\n",
    "    for train in trains:\n",
    "        f.write(train + '\\n')\n",
    "with open('trainingchapman/RECORDValid.txt', 'w') as f:\n",
    "    for valid in valids:\n",
    "        f.write(valid + '\\n')\n",
    "with open('trainingchapman/RECORDTest.txt', 'w') as f:\n",
    "    for test in tests:\n",
    "        f.write(test + '\\n')"
   ]
  },
  {
   "cell_type": "code",
   "execution_count": 409,
   "metadata": {},
   "outputs": [],
   "source": [
    "label_dict2 = {k: v for k, v in new_label_dict.items() if k not in drop_list}"
   ]
  },
  {
   "cell_type": "code",
   "execution_count": 414,
   "metadata": {},
   "outputs": [],
   "source": [
    "label = pd.DataFrame.from_dict(label_dict2, orient='index', columns=['label'])"
   ]
  },
  {
   "cell_type": "code",
   "execution_count": 415,
   "metadata": {},
   "outputs": [],
   "source": [
    "label.index.name = 'head'"
   ]
  },
  {
   "cell_type": "code",
   "execution_count": 417,
   "metadata": {},
   "outputs": [],
   "source": [
    "label.to_csv('trainingchapman/REFERENCE4.csv')"
   ]
  },
  {
   "cell_type": "code",
   "execution_count": 418,
   "metadata": {},
   "outputs": [],
   "source": [
    "labels = pd.read_csv('trainingchapman/REFERENCE4.csv')"
   ]
  },
  {
   "cell_type": "code",
   "execution_count": 419,
   "metadata": {},
   "outputs": [
    {
     "data": {
      "text/html": [
       "<div>\n",
       "<style scoped>\n",
       "    .dataframe tbody tr th:only-of-type {\n",
       "        vertical-align: middle;\n",
       "    }\n",
       "\n",
       "    .dataframe tbody tr th {\n",
       "        vertical-align: top;\n",
       "    }\n",
       "\n",
       "    .dataframe thead th {\n",
       "        text-align: right;\n",
       "    }\n",
       "</style>\n",
       "<table border=\"1\" class=\"dataframe\">\n",
       "  <thead>\n",
       "    <tr style=\"text-align: right;\">\n",
       "      <th></th>\n",
       "      <th>head</th>\n",
       "      <th>label</th>\n",
       "    </tr>\n",
       "  </thead>\n",
       "  <tbody>\n",
       "    <tr>\n",
       "      <th>0</th>\n",
       "      <td>JS00001</td>\n",
       "      <td>AFIB</td>\n",
       "    </tr>\n",
       "    <tr>\n",
       "      <th>1</th>\n",
       "      <td>JS00002</td>\n",
       "      <td>SB</td>\n",
       "    </tr>\n",
       "    <tr>\n",
       "      <th>2</th>\n",
       "      <td>JS00004</td>\n",
       "      <td>SB</td>\n",
       "    </tr>\n",
       "    <tr>\n",
       "      <th>3</th>\n",
       "      <td>JS00005</td>\n",
       "      <td>AFIB</td>\n",
       "    </tr>\n",
       "    <tr>\n",
       "      <th>4</th>\n",
       "      <td>JS00006</td>\n",
       "      <td>SB</td>\n",
       "    </tr>\n",
       "    <tr>\n",
       "      <th>...</th>\n",
       "      <td>...</td>\n",
       "      <td>...</td>\n",
       "    </tr>\n",
       "    <tr>\n",
       "      <th>43039</th>\n",
       "      <td>JS45385</td>\n",
       "      <td>GSVT</td>\n",
       "    </tr>\n",
       "    <tr>\n",
       "      <th>43040</th>\n",
       "      <td>JS45435</td>\n",
       "      <td>GSVT</td>\n",
       "    </tr>\n",
       "    <tr>\n",
       "      <th>43041</th>\n",
       "      <td>JS45507</td>\n",
       "      <td>GSVT</td>\n",
       "    </tr>\n",
       "    <tr>\n",
       "      <th>43042</th>\n",
       "      <td>JS45543</td>\n",
       "      <td>GSVT</td>\n",
       "    </tr>\n",
       "    <tr>\n",
       "      <th>43043</th>\n",
       "      <td>JS45550</td>\n",
       "      <td>GSVT</td>\n",
       "    </tr>\n",
       "  </tbody>\n",
       "</table>\n",
       "<p>43044 rows × 2 columns</p>\n",
       "</div>"
      ],
      "text/plain": [
       "          head label\n",
       "0      JS00001  AFIB\n",
       "1      JS00002    SB\n",
       "2      JS00004    SB\n",
       "3      JS00005  AFIB\n",
       "4      JS00006    SB\n",
       "...        ...   ...\n",
       "43039  JS45385  GSVT\n",
       "43040  JS45435  GSVT\n",
       "43041  JS45507  GSVT\n",
       "43042  JS45543  GSVT\n",
       "43043  JS45550  GSVT\n",
       "\n",
       "[43044 rows x 2 columns]"
      ]
     },
     "execution_count": 419,
     "metadata": {},
     "output_type": "execute_result"
    }
   ],
   "source": [
    "labels"
   ]
  },
  {
   "cell_type": "code",
   "execution_count": null,
   "metadata": {},
   "outputs": [],
   "source": []
  }
 ],
 "metadata": {
  "kernelspec": {
   "display_name": "pyda",
   "language": "python",
   "name": "python3"
  },
  "language_info": {
   "codemirror_mode": {
    "name": "ipython",
    "version": 3
   },
   "file_extension": ".py",
   "mimetype": "text/x-python",
   "name": "python",
   "nbconvert_exporter": "python",
   "pygments_lexer": "ipython3",
   "version": "3.10.14"
  }
 },
 "nbformat": 4,
 "nbformat_minor": 2
}
